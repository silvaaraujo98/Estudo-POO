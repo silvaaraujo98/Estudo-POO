{
 "cells": [
  {
   "cell_type": "markdown",
   "metadata": {},
   "source": [
    "# Aprendendo POO"
   ]
  },
  {
   "cell_type": "markdown",
   "metadata": {},
   "source": [
    "* Formados por Classes e Objetos.\n",
    "\n",
    "* Classe é a abstração de algo da vida real.\n",
    "\n",
    "* Toda classe possui o método construtor que é o __init__(self):\n",
    "\n",
    "* self dentro do construtor é para dizermos que os atributos são ligados a classe e não uma variável comum da função.\n",
    "\n",
    "* Objeto é instanciado toda vez que chamamos a classe e atribuimos isso a uma variável.\n",
    "\n",
    "* Atributos são os parâmetros da função de dentro do init e as características daquela classe.\n",
    "\n",
    "* Métodos são funções de uma classe\n",
    "\n",
    "* Nao precisamos aplicar o objeto como parametro da função, mas não se esqueça de usar self como primeiro parâmetro dos métodos da classe."
   ]
  },
  {
   "cell_type": "markdown",
   "metadata": {},
   "source": [
    "## Exercício 10.1"
   ]
  },
  {
   "cell_type": "code",
   "execution_count": 1,
   "metadata": {},
   "outputs": [],
   "source": [
    "class Televisao:\n",
    "    def __init__(self):\n",
    "        self.ligada = False\n",
    "        self.canal = 2\n",
    "        self.marca = \"Toshiba\"\n",
    "        self.tamanho_polegadas = 20"
   ]
  },
  {
   "cell_type": "code",
   "execution_count": 2,
   "metadata": {},
   "outputs": [],
   "source": [
    "tv_quarto = Televisao()\n",
    "tv_quarto.tamanho_polegadas = 25\n",
    "tv_quarto.marca = 'Samsung'\n",
    "\n",
    "\n",
    "tv_sala = Televisao()\n",
    "tv_sala.tamanho_polegadas = 50\n",
    "tv_sala.marca = \"LG\"\n",
    "\n",
    "\n"
   ]
  },
  {
   "cell_type": "code",
   "execution_count": 3,
   "metadata": {},
   "outputs": [
    {
     "name": "stdout",
     "output_type": "stream",
     "text": [
      "A tv da sala tem 50 polegadas e é da marca LG\n"
     ]
    }
   ],
   "source": [
    "print(f\"A tv da sala tem {tv_sala.tamanho_polegadas} polegadas e é da marca {tv_sala.marca}\")"
   ]
  },
  {
   "cell_type": "code",
   "execution_count": 4,
   "metadata": {},
   "outputs": [
    {
     "name": "stdout",
     "output_type": "stream",
     "text": [
      "A tv da quarto tem 25 polegadas e é da marca Samsung\n"
     ]
    }
   ],
   "source": [
    "print(f\"A tv da quarto tem {tv_quarto.tamanho_polegadas} polegadas e é da marca {tv_quarto.marca}\")"
   ]
  },
  {
   "cell_type": "markdown",
   "metadata": {},
   "source": [
    "## Exercício 10.2"
   ]
  },
  {
   "cell_type": "code",
   "execution_count": 5,
   "metadata": {},
   "outputs": [],
   "source": [
    "class Televisao:\n",
    "    def __init__(self,min,max,canal_inicial):\n",
    "        self.ligada = False\n",
    "        self.canal = canal_inicial\n",
    "        self.cmin = min\n",
    "        self.cmax = max\n",
    "    def muda_canal_para_baixo(self):\n",
    "        if self.canal - 1 >= self.cmin:\n",
    "            self.canal -=1\n",
    "    \n",
    "    def muda_canal_para_cima(self):\n",
    "        if self.canal + 1 <= self.cmax:\n",
    "            self.canal +=1\n",
    "\n",
    "tv = Televisao(1,99,5)\n"
   ]
  },
  {
   "cell_type": "markdown",
   "metadata": {},
   "source": [
    "## Exercício 10.3"
   ]
  },
  {
   "cell_type": "code",
   "execution_count": 6,
   "metadata": {},
   "outputs": [],
   "source": [
    "class Televisao:\n",
    "    def __init__(self,min,max,canal_inicial):\n",
    "        self.ligada = False\n",
    "        self.canal = canal_inicial\n",
    "        self.cmin = min\n",
    "        self.cmax = max\n",
    "    def muda_canal_para_baixo(self):\n",
    "        if self.canal - 1 >= self.cmin:\n",
    "            self.canal -=1\n",
    "        elif self.canal == self.cmin:\n",
    "            self.canal = self.cmax\n",
    "    \n",
    "    def muda_canal_para_cima(self):\n",
    "        if self.canal + 1 <= self.cmax:\n",
    "            self.canal +=1\n",
    "        elif self.canal == self.cmax:\n",
    "            self.canal = self.cmin\n",
    "\n",
    "\n",
    "tv = Televisao(1,99,1)\n",
    "tv.muda_canal_para_baixo()"
   ]
  },
  {
   "cell_type": "code",
   "execution_count": 7,
   "metadata": {},
   "outputs": [
    {
     "data": {
      "text/plain": [
       "99"
      ]
     },
     "execution_count": 7,
     "metadata": {},
     "output_type": "execute_result"
    }
   ],
   "source": [
    "tv.canal"
   ]
  },
  {
   "cell_type": "markdown",
   "metadata": {},
   "source": [
    "## Exercício 10.4"
   ]
  },
  {
   "cell_type": "code",
   "execution_count": 8,
   "metadata": {},
   "outputs": [],
   "source": [
    "class Televisao:\n",
    "    def __init__(self,canal_inicial,min=2,max=14,):\n",
    "        self.ligada = False\n",
    "        self.canal = canal_inicial\n",
    "        self.cmin = min\n",
    "        self.cmax = max\n",
    "    def muda_canal_para_baixo(self):\n",
    "        if self.canal - 1 >= self.cmin:\n",
    "            self.canal -=1\n",
    "        elif self.canal == self.cmin:\n",
    "            self.canal = self.cmax\n",
    "    \n",
    "    def muda_canal_para_cima(self):\n",
    "        if self.canal + 1 <= self.cmax:\n",
    "            self.canal +=1\n",
    "        elif self.canal == self.cmax:\n",
    "            self.canal = self.cmin\n",
    "\n",
    "\n",
    "tv = Televisao(2)"
   ]
  },
  {
   "cell_type": "markdown",
   "metadata": {},
   "source": [
    "## Exercício 10.5"
   ]
  },
  {
   "cell_type": "code",
   "execution_count": 9,
   "metadata": {},
   "outputs": [
    {
     "data": {
      "text/plain": [
       "20"
      ]
     },
     "metadata": {},
     "output_type": "display_data"
    },
    {
     "data": {
      "text/plain": [
       "1"
      ]
     },
     "metadata": {},
     "output_type": "display_data"
    }
   ],
   "source": [
    "tv_sala = Televisao(2,max=20)\n",
    "display(tv_sala.cmax)\n",
    "\n",
    "tv_quarto = Televisao(5,min=1)\n",
    "display(tv_quarto.cmin)"
   ]
  },
  {
   "cell_type": "code",
   "execution_count": 10,
   "metadata": {},
   "outputs": [],
   "source": [
    "from clientes import Cliente\n",
    "from contas import Conta"
   ]
  },
  {
   "cell_type": "code",
   "execution_count": 11,
   "metadata": {},
   "outputs": [],
   "source": [
    "joão = Cliente(\"João da Silva\",\"777-1234\")\n",
    "maria = Cliente(\"Maria da Silva\",\"555-4321\")\n",
    "\n",
    "conta1 = Conta([joão],1,1000)\n",
    "conta2 = Conta([maria,joão],2,500)"
   ]
  },
  {
   "cell_type": "code",
   "execution_count": 12,
   "metadata": {},
   "outputs": [],
   "source": [
    "conta1.saque(50)\n",
    "conta2.deposito(300)\n",
    "conta1.saque(190)\n",
    "conta2.deposito(95.15)\n",
    "conta2.saque(250)"
   ]
  },
  {
   "cell_type": "code",
   "execution_count": 13,
   "metadata": {},
   "outputs": [
    {
     "name": "stdout",
     "output_type": "stream",
     "text": [
      "Extrato CC N° 1\n",
      "\n",
      "DEPOSITO      1000.00\n",
      "SAQUE           50.00\n",
      "SAQUE          190.00\n",
      "\n",
      " Saldo:     760.00\n",
      "\n"
     ]
    }
   ],
   "source": [
    "conta1.extrato()"
   ]
  },
  {
   "cell_type": "code",
   "execution_count": 14,
   "metadata": {},
   "outputs": [
    {
     "name": "stdout",
     "output_type": "stream",
     "text": [
      "Extrato CC N° 2\n",
      "\n",
      "DEPOSITO       500.00\n",
      "DEPOSITO       300.00\n",
      "DEPOSITO        95.15\n",
      "SAQUE          250.00\n",
      "\n",
      " Saldo:     645.15\n",
      "\n"
     ]
    }
   ],
   "source": [
    "conta2.extrato()"
   ]
  },
  {
   "cell_type": "markdown",
   "metadata": {},
   "source": [
    "## Exercício 10.6"
   ]
  },
  {
   "cell_type": "code",
   "execution_count": 15,
   "metadata": {},
   "outputs": [],
   "source": [
    "carlos = Cliente(\"Carlos Oliveira\",\"123-9999\")\n",
    "conta_carlos = Conta([carlos],3,200)"
   ]
  },
  {
   "cell_type": "code",
   "execution_count": 16,
   "metadata": {},
   "outputs": [
    {
     "name": "stdout",
     "output_type": "stream",
     "text": [
      "Você não tem saldo suficiente, seu saldo é R$200.00\n"
     ]
    }
   ],
   "source": [
    "conta_carlos.saque(600)"
   ]
  },
  {
   "cell_type": "code",
   "execution_count": 17,
   "metadata": {},
   "outputs": [],
   "source": [
    "jaqueline = Cliente(\"Jaqueline Silva\",\"123-9986\")\n",
    "conta_jaqueline = Conta([jaqueline,joão],4,100)"
   ]
  },
  {
   "cell_type": "code",
   "execution_count": 18,
   "metadata": {},
   "outputs": [
    {
     "name": "stdout",
     "output_type": "stream",
     "text": [
      "Extrato CC N° 4\n",
      "\n",
      "DEPOSITO       100.00\n",
      "\n",
      " Saldo:     100.00\n",
      "\n"
     ]
    }
   ],
   "source": [
    "conta_jaqueline.extrato()\n",
    "# Toda vez que criamos uma conta com algum saldo, nós temos a duplicidade do saque"
   ]
  },
  {
   "cell_type": "markdown",
   "metadata": {},
   "source": [
    "## Exercício 10.7"
   ]
  },
  {
   "cell_type": "code",
   "execution_count": 19,
   "metadata": {},
   "outputs": [
    {
     "name": "stdout",
     "output_type": "stream",
     "text": [
      "Cliente : Jaqueline Silva Telefone : 123-9986 CC Número : 4 Saldo :     100.00\n",
      "Cliente : João da Silva Telefone : 777-1234 CC Número : 4 Saldo :     100.00\n"
     ]
    }
   ],
   "source": [
    "conta_jaqueline.resumo()"
   ]
  },
  {
   "cell_type": "code",
   "execution_count": 20,
   "metadata": {},
   "outputs": [],
   "source": [
    "## Exercício 10.7"
   ]
  },
  {
   "cell_type": "code",
   "execution_count": 21,
   "metadata": {},
   "outputs": [],
   "source": [
    "jose = Cliente(\"José Carlos Araujo\",\"123-0998\")\n",
    "\n",
    "conta_jose_joao = Conta([jose,joão],6,500)"
   ]
  },
  {
   "cell_type": "code",
   "execution_count": 22,
   "metadata": {},
   "outputs": [
    {
     "name": "stdout",
     "output_type": "stream",
     "text": [
      "Cliente : José Carlos Araujo Telefone : 123-0998 CC Número : 6 Saldo :     500.00\n",
      "Cliente : João da Silva Telefone : 777-1234 CC Número : 6 Saldo :     500.00\n"
     ]
    }
   ],
   "source": [
    "conta_jose_joao.resumo()"
   ]
  },
  {
   "cell_type": "code",
   "execution_count": 23,
   "metadata": {},
   "outputs": [],
   "source": [
    "from clientes import Cliente\n",
    "from banco import Banco\n",
    "from contas import Conta"
   ]
  },
  {
   "cell_type": "code",
   "execution_count": 25,
   "metadata": {},
   "outputs": [
    {
     "name": "stdout",
     "output_type": "stream",
     "text": [
      "Cliente : João da Silva Telefone : 3241-5599 CC Número : 1 Saldo :     100.00\n",
      "Cliente : Maria Silva Telefone : 7231-9955 CC Número : 1 Saldo :     100.00\n",
      "Cliente : José Vargas Telefone : 9721-3040 CC Número : 2 Saldo :      10.00\n"
     ]
    }
   ],
   "source": [
    "joão = Cliente(\"João da Silva\",\"3241-5599\")\n",
    "maria = Cliente(\"Maria Silva\",\"7231-9955\")\n",
    "josé = Cliente(\"José Vargas\",\"9721-3040\")\n",
    "\n",
    "contaJM = Conta([joão,maria],1,100)\n",
    "contaJ = Conta([josé],2,10)\n",
    "\n",
    "tatu = Banco(\"Tatú\")\n",
    "tatu.abre_conta(contaJM)\n",
    "tatu.abre_conta(contaJ)\n",
    "\n",
    "tatu.lista_contas()\n",
    "\n"
   ]
  },
  {
   "cell_type": "code",
   "execution_count": 58,
   "metadata": {},
   "outputs": [],
   "source": [
    "class Cidade:\n",
    "    def __init__(self,nome,populacao):\n",
    "        self.nome = nome\n",
    "        self.populacao = populacao\n",
    "\n",
    "class Estado:\n",
    "    def __init__(self,nome,sigla,cidades):\n",
    "        self.nome = nome\n",
    "        self.sigla = sigla\n",
    "        self.cidades = cidades\n",
    "        self.populacao = 0 \n",
    "        for x in cidades:\n",
    "            self.populacao += x.populacao\n",
    "\n",
    "\n"
   ]
  },
  {
   "cell_type": "code",
   "execution_count": 77,
   "metadata": {},
   "outputs": [
    {
     "data": {
      "text/plain": [
       "10000"
      ]
     },
     "execution_count": 77,
     "metadata": {},
     "output_type": "execute_result"
    }
   ],
   "source": [
    "rio_de_janeiro = Cidade(\"Rio de Janeiro\",5000)\n",
    "rio_de_janeiro.populacao\n",
    "sao_paulo = Cidade(\"São Paulo\",10000)\n",
    "sao_paulo.populacao"
   ]
  },
  {
   "cell_type": "code",
   "execution_count": 78,
   "metadata": {},
   "outputs": [],
   "source": [
    "Sudeste = Estado(\"Sudeste\",\"SE\",[rio_de_janeiro,sao_paulo])"
   ]
  },
  {
   "cell_type": "code",
   "execution_count": 79,
   "metadata": {},
   "outputs": [
    {
     "data": {
      "text/plain": [
       "15000"
      ]
     },
     "execution_count": 79,
     "metadata": {},
     "output_type": "execute_result"
    }
   ],
   "source": [
    "Sudeste.populacao"
   ]
  },
  {
   "cell_type": "code",
   "execution_count": 80,
   "metadata": {},
   "outputs": [
    {
     "name": "stdout",
     "output_type": "stream",
     "text": [
      "5000\n",
      "10000\n"
     ]
    }
   ],
   "source": [
    "for x in Sudeste.cidades:\n",
    "    print(x.populacao)"
   ]
  },
  {
   "cell_type": "code",
   "execution_count": null,
   "metadata": {},
   "outputs": [],
   "source": []
  },
  {
   "cell_type": "code",
   "execution_count": null,
   "metadata": {},
   "outputs": [],
   "source": []
  }
 ],
 "metadata": {
  "kernelspec": {
   "display_name": "Python 3",
   "language": "python",
   "name": "python3"
  },
  "language_info": {
   "codemirror_mode": {
    "name": "ipython",
    "version": 3
   },
   "file_extension": ".py",
   "mimetype": "text/x-python",
   "name": "python",
   "nbconvert_exporter": "python",
   "pygments_lexer": "ipython3",
   "version": "3.9.13"
  }
 },
 "nbformat": 4,
 "nbformat_minor": 2
}
